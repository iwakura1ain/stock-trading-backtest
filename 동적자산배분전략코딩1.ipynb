{
 "cells": [
  {
   "cell_type": "code",
   "execution_count": 27,
   "id": "59901927-15a7-4916-9e2d-5c2ccdf90ae2",
   "metadata": {
    "collapsed": false
   },
   "outputs": [
    {
     "name": "stdout",
     "output_type": "stream",
     "text": [
      "None\n"
     ]
    },
    {
     "name": "stderr",
     "output_type": "stream",
     "text": [
      "/tmp/ipykernel_61206/994879625.py:12: FutureWarning: In a future version of pandas all arguments of concat except for the argument 'objs' will be keyword-only.\n",
      "  pd.concat(closeData, getCloseDataFdr(ticker, start, end))\n"
     ]
    }
   ],
   "source": [
    "import FinanceDataReader as fdr\n",
    "import pandas as pd\n",
    "import matplotlib.pyplot as plt\n",
    "import numpy as np\n",
    "from pandas_datareader import data\n",
    "from base_functions import *\n",
    "\n",
    "def getCloseData(tickers, start, end=None):\n",
    "    closeData = 0\n",
    "    try:\n",
    "        for ticker in tickers.values():\n",
    "            pd.concat(closeData, getCloseDataFdr(ticker, start, end))\n",
    "        closeData.columns = [key for key in tickers.keys()]\n",
    "    except:\n",
    "        return None\n",
    "\n",
    "    return closeData\n",
    "\n",
    "tickers = {\"kodex200\": \"069500\", \"kodex10Bond\": \"152380\"}\n",
    "start, end = \"2010-01-10\", \"2022-10-10\"\n",
    "print(getCloseData(tickers, start, end))"
   ]
  },
  {
   "cell_type": "code",
   "execution_count": null,
   "id": "33fb717b-366e-4efb-8e46-85de7bdd4b90",
   "metadata": {
    "collapsed": false
   },
   "outputs": [],
   "source": []
  }
 ],
 "metadata": {
  "kernelspec": {
   "argv": [
    "python",
    "-m",
    "ipykernel_launcher",
    "-f",
    "{connection_file}"
   ],
   "display_name": "Python 3 (ipykernel)",
   "env": null,
   "interrupt_mode": "signal",
   "language": "python",
   "metadata": {
    "debugger": true
   },
   "name": "python3"
  },
  "name": "동적자산배분전략코딩1.ipynb"
 },
 "nbformat": 4,
 "nbformat_minor": 5
}
